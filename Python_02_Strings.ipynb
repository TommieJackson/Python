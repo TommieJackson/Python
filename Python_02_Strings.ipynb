{
 "cells": [
  {
   "cell_type": "markdown",
   "metadata": {},
   "source": [
    "Python has the following built in types Number, String, List, Dictionaries, Tuples, Files, and Sets.  Below is a summary of each built in String type along with some examples and exercise:\n",
    "\n",
    "Some funcitons you should know before beginning\n",
    "To print output in python you use the `print()` function. \n",
    "\n",
    "Examples of print() functions \n",
    "\n",
    "    print(1,2,3,5)\n",
    "    print('The House')\n",
    "    print(a,b)\n",
    "\n",
    " \n",
    "Stings are a sequence of charactors \n",
    " 'Joshua', \"house\", b'\\x01c', u'sp\\xc4m'\n"
   ]
  },
  {
   "cell_type": "code",
   "execution_count": null,
   "metadata": {},
   "outputs": [],
   "source": [
    "#To represent a string you wrap them in quotes\n",
    "\n",
    "# Single quotes\n",
    "name1='Joshua jackson'\n",
    "print(name1)\n",
    "\n",
    "# single quotes allow double qoutes\n",
    "name1='Joshua Jackson \"The Greate\"'\n",
    "print(name1)\n"
   ]
  },
  {
   "cell_type": "code",
   "execution_count": null,
   "metadata": {},
   "outputs": [],
   "source": [
    "# Doupble quotes \n",
    "name2=\"Alexandria Jackson\"\n",
    "print(name2)\n",
    "\n",
    "# Double quotes allow single quotes in the string\n",
    "name2=\"Alixandria Jackson 'The Greate'\"\n",
    "print(name2)"
   ]
  },
  {
   "cell_type": "code",
   "execution_count": null,
   "metadata": {},
   "outputs": [],
   "source": [
    "# Triple double quotes allow you to work with multiple lines and single quote\n",
    "name3=\"\"\"Joshua Jackson\n",
    "Alexandria Jackson\n",
    "Anayha Jackson\"\"\"\n",
    "print(name3)\n",
    "\n",
    "name3=\"\"\"Joshua Jackson 'The First'\n",
    "Alexandria Jackson 'The Second'\n",
    "Anayha Jackson 'The Third'\"\"\"\n",
    "print(name3)\n"
   ]
  },
  {
   "cell_type": "code",
   "execution_count": null,
   "metadata": {},
   "outputs": [],
   "source": [
    "# Triple single quotes allow you to work with multiple lines and double quote\n",
    "name3='''Joshua Jackson\n",
    "Alexandria Jackson\n",
    "Anayha Jackson'''\n",
    "print(name3)\n",
    "\n",
    "name3='''Joshua Jackson \"The First\"\n",
    "Alexandria Jackson \"The Second\"\n",
    "Anayha Jackson \"The Third\" '''\n",
    "print(name3)"
   ]
  },
  {
   "cell_type": "code",
   "execution_count": null,
   "metadata": {},
   "outputs": [],
   "source": [
    "# you can not have the same quotes inside of each other without escaping the \n",
    "# character \n",
    "\n",
    "# This will produce a SyntaxError\n",
    "test=\"\"\"\n",
    "print(test)"
   ]
  },
  {
   "cell_type": "code",
   "execution_count": null,
   "metadata": {},
   "outputs": [],
   "source": [
    "# This is a example of escaping a character\n",
    "\n",
    "test=\"\\\"\"\n",
    "print(test)"
   ]
  },
  {
   "cell_type": "code",
   "execution_count": null,
   "metadata": {},
   "outputs": [],
   "source": [
    "# examples of strings \n",
    "\n",
    "s1=\"This is a string\"\n",
    "s2=\"123 456\"\n",
    "s3=\"The world is 123\"\n",
    "s4=\"Myname is \"\n",
    "print(s1)\n",
    "print(s2)\n",
    "print(s3)\n",
    "print(s4)"
   ]
  },
  {
   "cell_type": "code",
   "execution_count": 18,
   "metadata": {},
   "outputs": [
    {
     "name": "stdout",
     "output_type": "stream",
     "text": [
      "This is the first part\n",
      "This is the second part\n",
      "This is the first partThis is the second part\n",
      "This is the first part This is the second part\n"
     ]
    }
   ],
   "source": [
    "# concatinating strings\n",
    "s4 = \"This is the first part\"\n",
    "s5 = \"This is the second part\"\n",
    "s6 = s4 + s5\n",
    "print(s4)\n",
    "print (s5)\n",
    "print(s6)\n",
    "print (s4, s5)"
   ]
  },
  {
   "cell_type": "code",
   "execution_count": null,
   "metadata": {},
   "outputs": [],
   "source": []
  }
 ],
 "metadata": {
  "kernelspec": {
   "display_name": "Python [default]",
   "language": "python",
   "name": "python3"
  },
  "language_info": {
   "codemirror_mode": {
    "name": "ipython",
    "version": 3
   },
   "file_extension": ".py",
   "mimetype": "text/x-python",
   "name": "python",
   "nbconvert_exporter": "python",
   "pygments_lexer": "ipython3",
   "version": "3.6.6"
  }
 },
 "nbformat": 4,
 "nbformat_minor": 2
}
