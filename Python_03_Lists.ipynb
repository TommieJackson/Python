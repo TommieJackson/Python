{
 "cells": [
  {
   "cell_type": "markdown",
   "metadata": {},
   "source": [
    " Python has the following built in types Number, String, List, Dictionaries, Tuples, Files,\n",
    " and Sets.  Below is a summary of each built in List type along with some examples and exercise:\n",
    "```\n",
    " Some funcitons you should know before beginning\n",
    " To print output in python you use the `print()` function. \n",
    " Examples of print() functions \n",
    "    print(1,2,3,5)\n",
    "    print('The House')\n",
    "    print(a,b)\n",
    "\n",
    " Lists\n",
    " [1,[2,'three'], 4,5], list(range(10))\n",
    "```\n"
   ]
  },
  {
   "cell_type": "code",
   "execution_count": 3,
   "metadata": {},
   "outputs": [
    {
     "name": "stdout",
     "output_type": "stream",
     "text": [
      "[1, 2, 3, 4, 5]\n"
     ]
    }
   ],
   "source": [
    "#List is a collection that is ordered and changable\n",
    "\n",
    "#Example of a list of integers\n",
    "\n",
    "a = [1,2,3,4,5]\n",
    "\n",
    "print (a)\n"
   ]
  },
  {
   "cell_type": "code",
   "execution_count": 4,
   "metadata": {},
   "outputs": [
    {
     "name": "stdout",
     "output_type": "stream",
     "text": [
      "['a', 'b', 'c', 'and more']\n"
     ]
    }
   ],
   "source": [
    "# Example of a list of strings \n",
    "\n",
    "b = [ \"a\",\"b\",\"c\",\"and more\"]\n",
    "print (b)"
   ]
  },
  {
   "cell_type": "code",
   "execution_count": 7,
   "metadata": {},
   "outputs": [
    {
     "name": "stdout",
     "output_type": "stream",
     "text": [
      "['and', 'the', 'number', 'is', 1, 2, 3]\n"
     ]
    }
   ],
   "source": [
    "# Example of a mix list\n",
    "\n",
    "c = [\"and\",\"the\",\"number\", \"is\",1,2,3]\n",
    "print(c)"
   ]
  },
  {
   "cell_type": "code",
   "execution_count": 5,
   "metadata": {},
   "outputs": [
    {
     "name": "stdout",
     "output_type": "stream",
     "text": [
      "['This', 'is', 'the']\n",
      "['This', 'is', 'the', 'List']\n"
     ]
    }
   ],
   "source": [
    "# adding items to a list \n",
    "\n",
    "b = [\"This\",\"is\",\"the\"]\n",
    "print(b)\n",
    "\n",
    "b.append(\"List\")\n",
    "print(b)\n"
   ]
  },
  {
   "cell_type": "code",
   "execution_count": 6,
   "metadata": {},
   "outputs": [
    {
     "name": "stdout",
     "output_type": "stream",
     "text": [
      "['This', 'is', 'the']\n",
      "['is', 'the']\n"
     ]
    }
   ],
   "source": [
    "# reomvoe item from a list\n",
    "\n",
    "b = [\"This\",\"is\",\"the\"]\n",
    "print(b)\n",
    "\n",
    "b.remove(\"This\")\n",
    "print(b)"
   ]
  },
  {
   "cell_type": "code",
   "execution_count": 8,
   "metadata": {},
   "outputs": [
    {
     "name": "stdout",
     "output_type": "stream",
     "text": [
      "['This', 'is', 'the']\n",
      "[]\n"
     ]
    }
   ],
   "source": [
    "# Remove all elements from a list\n",
    "b = [\"This\",\"is\",\"the\"]\n",
    "print(b)\n",
    "\n",
    "b.clear()\n",
    "print(b)\n"
   ]
  },
  {
   "cell_type": "markdown",
   "metadata": {},
   "source": [
    "## Other methos for list\n",
    "\n",
    "- copy()\n",
    "- extend()\n",
    "- index()\n",
    "- insert()\n",
    "- reverse()\n",
    "- sort()\n",
    "- pop()"
   ]
  },
  {
   "cell_type": "code",
   "execution_count": null,
   "metadata": {},
   "outputs": [],
   "source": []
  }
 ],
 "metadata": {
  "kernelspec": {
   "display_name": "Python [default]",
   "language": "python",
   "name": "python3"
  },
  "language_info": {
   "codemirror_mode": {
    "name": "ipython",
    "version": 3
   },
   "file_extension": ".py",
   "mimetype": "text/x-python",
   "name": "python",
   "nbconvert_exporter": "python",
   "pygments_lexer": "ipython3",
   "version": "3.6.6"
  }
 },
 "nbformat": 4,
 "nbformat_minor": 2
}
