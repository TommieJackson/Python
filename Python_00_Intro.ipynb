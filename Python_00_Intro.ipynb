{
 "cells": [
  {
   "cell_type": "markdown",
   "metadata": {},
   "source": [
    "## About this tutorial.  \n",
    "\n",
    "This tutorial will utilize Jupyter as a development environment.  This will provide you a simple environment to learn \n",
    "and understand the basic concepts of programming.  After you have developed a good understand of the language you will move to a more complicated environment and IDE (Intergrated Development Environment)"
   ]
  },
  {
   "cell_type": "markdown",
   "metadata": {},
   "source": [
    "## Python\n",
    "\n",
    "Python is a esay to use interperated language.  This mean it does not require compilation to execute.  Just the python interperator.  We will leave it at that for now \n",
    "    "
   ]
  },
  {
   "cell_type": "markdown",
   "metadata": {},
   "source": [
    "## Functions you should now \n",
    "There are some basic functions you should now before we start\n",
    "\n",
    "## print()\n",
    "The print function prints the the data you provide it \n",
    "\n"
   ]
  },
  {
   "cell_type": "code",
   "execution_count": null,
   "metadata": {},
   "outputs": [],
   "source": [
    "# Printing a string\n",
    "print (\"This is the test\")"
   ]
  },
  {
   "cell_type": "code",
   "execution_count": null,
   "metadata": {},
   "outputs": [],
   "source": [
    "# Printing a Interger number\n",
    "print(1)\n"
   ]
  },
  {
   "cell_type": "code",
   "execution_count": null,
   "metadata": {},
   "outputs": [],
   "source": [
    "# Printing a float number\n",
    "print(2.44)"
   ]
  },
  {
   "cell_type": "code",
   "execution_count": null,
   "metadata": {},
   "outputs": [],
   "source": [
    "# printing a list\n",
    "print([1,2,3,4])"
   ]
  },
  {
   "cell_type": "code",
   "execution_count": null,
   "metadata": {},
   "outputs": [],
   "source": [
    "# print multiple items \n",
    "\n",
    "print( 1, 2, 3, \"The house\")"
   ]
  },
  {
   "cell_type": "markdown",
   "metadata": {},
   "source": [
    "## variables\n",
    "\n",
    "- A variable is a name that begains with a letter or underscore character.\n",
    "- It can only be alpha numeric and underscore (A-z, 0-9, and _)\n"
   ]
  },
  {
   "cell_type": "code",
   "execution_count": null,
   "metadata": {},
   "outputs": [],
   "source": [
    "# simple variable name a assigned the number 1\n",
    "a = 1\n",
    "\n",
    "# simple variable name abc assign the string \"this is abc\"\n",
    "abc = \"this is abc\"\n",
    "\n",
    "print(a)\n",
    "print(abc)\n"
   ]
  },
  {
   "cell_type": "code",
   "execution_count": null,
   "metadata": {},
   "outputs": [],
   "source": [
    "# if you assign a value to variable multiple times the last value will be the \n",
    "# value of the variable\n",
    "\n",
    "a = 1\n",
    "print(\"a =\",a)\n",
    "b = 2\n",
    "print(\"b =\",b)\n",
    "a = b\n",
    "print(\"a =\",a)\n",
    "b = \"b now has me as a value \"\n",
    "print(\"b = \",b)"
   ]
  },
  {
   "cell_type": "code",
   "execution_count": null,
   "metadata": {},
   "outputs": [],
   "source": []
  }
 ],
 "metadata": {
  "kernelspec": {
   "display_name": "Python [default]",
   "language": "python",
   "name": "python3"
  },
  "language_info": {
   "codemirror_mode": {
    "name": "ipython",
    "version": 3
   },
   "file_extension": ".py",
   "mimetype": "text/x-python",
   "name": "python",
   "nbconvert_exporter": "python",
   "pygments_lexer": "ipython3",
   "version": "3.6.6"
  }
 },
 "nbformat": 4,
 "nbformat_minor": 2
}
