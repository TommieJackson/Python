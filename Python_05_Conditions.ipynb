{
 "cells": [
  {
   "cell_type": "markdown",
   "metadata": {},
   "source": [
    "## Conditions from mathmatics\n",
    "\n",
    "- Equals: a == b\n",
    "- Not Equals: a != b\n",
    "- Less than: a < b\n",
    "- Less than or equal to: a <= b\n",
    "- Greater than: a > b\n",
    "- Greater than or equal to: a >= b\n"
   ]
  },
  {
   "cell_type": "code",
   "execution_count": 1,
   "metadata": {},
   "outputs": [
    {
     "name": "stdout",
     "output_type": "stream",
     "text": [
      " b > a\n",
      " b > a\n"
     ]
    }
   ],
   "source": [
    "# if statement \n",
    "a = 4\n",
    "b = 10\n",
    "\n",
    "if b > a:\n",
    "    print(\" b > a\")\n"
   ]
  },
  {
   "cell_type": "code",
   "execution_count": null,
   "metadata": {},
   "outputs": [],
   "source": [
    "# if else statement\n",
    "\n",
    "a = 4\n",
    "b = 10\n",
    "\n",
    "if b < a:\n",
    "    print(\" b < a\")\n",
    "else:\n",
    "    print(\" b > a\")"
   ]
  },
  {
   "cell_type": "code",
   "execution_count": 2,
   "metadata": {},
   "outputs": [
    {
     "name": "stdout",
     "output_type": "stream",
     "text": [
      " b > a\n"
     ]
    }
   ],
   "source": [
    "# if else statement\n",
    "\n",
    "a = 4\n",
    "b = 10\n",
    "\n",
    "if b < a:\n",
    "    print(\" b < a\")\n",
    "elif b > a: \n",
    "    print(\" b > a\")\n",
    "else:\n",
    "    print (\"I do not know\")"
   ]
  },
  {
   "cell_type": "code",
   "execution_count": null,
   "metadata": {},
   "outputs": [],
   "source": []
  }
 ],
 "metadata": {
  "kernelspec": {
   "display_name": "Python [default]",
   "language": "python",
   "name": "python3"
  },
  "language_info": {
   "codemirror_mode": {
    "name": "ipython",
    "version": 3
   },
   "file_extension": ".py",
   "mimetype": "text/x-python",
   "name": "python",
   "nbconvert_exporter": "python",
   "pygments_lexer": "ipython3",
   "version": "3.6.6"
  }
 },
 "nbformat": 4,
 "nbformat_minor": 2
}
