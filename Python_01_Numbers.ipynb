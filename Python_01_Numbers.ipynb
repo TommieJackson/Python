{
 "cells": [
  {
   "cell_type": "markdown",
   "metadata": {},
   "source": [
    "Python has the following built in types Number, String, List, Dictionaries, Tuples, Files,\n",
    "and Sets.  Below is a summary of each built in Number type along with some examples and exercise:\n",
    "\n",
    "Some funcitons you should know before beginning\n",
    "To print output in python you use the `print()` function. \n",
    "\n",
    "```python\n",
    "Examples of print() functions \n",
    "    print(1,2,3,5)\n",
    "    print('The House')\n",
    "    print(a,b)\n",
    "```"
   ]
  },
  {
   "cell_type": "code",
   "execution_count": null,
   "metadata": {
    "collapsed": true
   },
   "outputs": [],
   "source": [
    "# Integer is a whole number 0 to 9223372036854775807\n",
    "\n",
    "a = 10  # assign number 10 to variable a\n",
    "b = 20  # assign number 20 to variable b\n",
    "\n",
    "c = a + b   # assign the value of a + b to c\n",
    "d = 10 + 20 # assign the value of 10 + 20 to d\n",
    "\n",
    "print (\"The value of a is \",a)\n",
    "print (\"The value of b is \",b)\n",
    "print (\"The value of c is \",c)\n",
    "print (\"The value of d is \",d)"
   ]
  },
  {
   "cell_type": "code",
   "execution_count": null,
   "metadata": {
    "collapsed": true
   },
   "outputs": [],
   "source": [
    "# Float is a number with a decimal \n",
    "\n",
    "a = 2.0  # assign float 2.0 to a \n",
    "b = 3.0  # assign float 3.0 to b\n",
    "\n",
    "c = a + b      # assign the value of a + b to c\n",
    "d = 2.0 + 3.0  # assign the value of 2.0 + 3.0 to d\n",
    "\n",
    "print (\"The value of a is \",a)\n",
    "print (\"The value of b is \",b)\n",
    "print (\"The value of c is \",c)\n",
    "print (\"The value of d is \",d)"
   ]
  },
  {
   "cell_type": "code",
   "execution_count": null,
   "metadata": {
    "collapsed": true
   },
   "outputs": [],
   "source": [
    "# Basic math opartions \n",
    "\n",
    "# add numbers\n",
    "print(3 * 2)\n",
    "\n",
    "# subtract numbers\n",
    "print(3 - 2)\n",
    "\n",
    "# divide numbers \n",
    "print(3 / 2)\n",
    "\n",
    "# mod numbers\n",
    "print(3 % 2)\n",
    "\n",
    "# Longer equestions with order of oparations \n",
    "\n",
    "a = 4\n",
    "b = 5\n",
    "c = 8\n",
    "\n",
    "d = a + b * c * a - a\n",
    "e = (a + b )* (c * a - a)\n",
    "\n",
    "print (\"The value of a is \",a)\n",
    "print (\"The value of b is \",b)\n",
    "print (\"The value of c is \",c)\n",
    "print (\"The value of d is \",d)\n",
    "print (\"The value of e is \",e)\n",
    "\n",
    "# exponent\n",
    "print (\"the value of 8 to the power of 2 is \",c**2)\n"
   ]
  },
  {
   "cell_type": "code",
   "execution_count": null,
   "metadata": {
    "collapsed": true
   },
   "outputs": [],
   "source": [
    "# when evaluating where there something is greater than, less than or equal to, you will\n",
    "# get a result of true or false\n",
    "\n",
    "# less then\n",
    "a = 4 < 5\n",
    "b = 5 < 4\n",
    "print (\"is 4 less than 5 \",a)\n",
    "print (\"is 5 less than 4 \",b)\n",
    "\n",
    "# greater than\n",
    "a = 4 > 5\n",
    "b = 5 > 4\n",
    "print (\"is 4 greater than 5 \",a)\n",
    "print (\"is 5 greater than 4 \",b)\n",
    "\n",
    "# equal to\n",
    "a = 5 == 5\n",
    "b = 5 == 4\n",
    "print (\"is 5 equal to 5 \",a)\n",
    "print (\"is 5 equal to 4 \",b)"
   ]
  },
  {
   "cell_type": "code",
   "execution_count": null,
   "metadata": {
    "collapsed": true
   },
   "outputs": [],
   "source": [
    "# Write a print statment to for the following equation \n",
    "# 3 + 20 - 49 + 80 / 2\n"
   ]
  },
  {
   "cell_type": "code",
   "execution_count": null,
   "metadata": {
    "collapsed": true
   },
   "outputs": [],
   "source": [
    "# Place each number in a varable and write the print statement \n",
    "# to use the variable"
   ]
  },
  {
   "cell_type": "code",
   "execution_count": null,
   "metadata": {
    "collapsed": true
   },
   "outputs": [],
   "source": [
    "# write a print statement to show that 2000345 is less than 300000000"
   ]
  },
  {
   "cell_type": "code",
   "execution_count": null,
   "metadata": {
    "collapsed": true
   },
   "outputs": [],
   "source": [
    "# Write a print statement to show that a=10 is equal to 10"
   ]
  },
  {
   "cell_type": "code",
   "execution_count": null,
   "metadata": {
    "collapsed": true
   },
   "outputs": [],
   "source": [
    "# Write a print statement to show that 10 + 2 - 5 is equal to 10 - 5 + 2"
   ]
  }
 ],
 "metadata": {
  "kernelspec": {
   "display_name": "Python [default]",
   "language": "python",
   "name": "python3"
  },
  "language_info": {
   "codemirror_mode": {
    "name": "ipython",
    "version": 3
   },
   "file_extension": ".py",
   "mimetype": "text/x-python",
   "name": "python",
   "nbconvert_exporter": "python",
   "pygments_lexer": "ipython3",
   "version": "3.6.6"
  }
 },
 "nbformat": 4,
 "nbformat_minor": 2
}
